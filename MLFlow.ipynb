{
 "cells": [
  {
   "cell_type": "code",
   "execution_count": 31,
   "metadata": {},
   "outputs": [],
   "source": [
    "import pandas as pd\n",
    "from sklearn.preprocessing import LabelEncoder\n",
    "import pickle\n",
    "import mlflow\n",
    "import mlflow.sklearn\n",
    "from sklearn.model_selection import train_test_split\n",
    "from sklearn.tree import DecisionTreeClassifier\n",
    "from sklearn.ensemble import RandomForestClassifier, GradientBoostingClassifier\n",
    "from sklearn.svm import SVC\n",
    "from sklearn.linear_model import LogisticRegression\n",
    "from sklearn.metrics import accuracy_scorefrom sklearn import preprocessing\n",
    "from sklearn.metrics import roc_auc_score, confusion_matrix\n",
    "import matplotlib.pyplot as plt\n",
    "import seaborn as sns"
   ]
  },
  {
   "cell_type": "markdown",
   "metadata": {},
   "source": [
    "###### Loading dataset"
   ]
  },
  {
   "cell_type": "code",
   "execution_count": 89,
   "metadata": {},
   "outputs": [
    {
     "data": {
      "text/html": [
       "<div>\n",
       "<style scoped>\n",
       "    .dataframe tbody tr th:only-of-type {\n",
       "        vertical-align: middle;\n",
       "    }\n",
       "\n",
       "    .dataframe tbody tr th {\n",
       "        vertical-align: top;\n",
       "    }\n",
       "\n",
       "    .dataframe thead th {\n",
       "        text-align: right;\n",
       "    }\n",
       "</style>\n",
       "<table border=\"1\" class=\"dataframe\">\n",
       "  <thead>\n",
       "    <tr style=\"text-align: right;\">\n",
       "      <th></th>\n",
       "      <th>Timestamp</th>\n",
       "      <th>Choose your gender</th>\n",
       "      <th>Age</th>\n",
       "      <th>What is your course?</th>\n",
       "      <th>Your current year of Study</th>\n",
       "      <th>What is your CGPA?</th>\n",
       "      <th>Marital status</th>\n",
       "      <th>Do you have Depression?</th>\n",
       "      <th>Do you have Anxiety?</th>\n",
       "      <th>Do you have Panic attack?</th>\n",
       "      <th>Did you seek any specialist for a treatment?</th>\n",
       "    </tr>\n",
       "  </thead>\n",
       "  <tbody>\n",
       "    <tr>\n",
       "      <th>0</th>\n",
       "      <td>8/7/2020 12:02</td>\n",
       "      <td>Female</td>\n",
       "      <td>18.0</td>\n",
       "      <td>Engineering</td>\n",
       "      <td>year 1</td>\n",
       "      <td>3.00 - 3.49</td>\n",
       "      <td>No</td>\n",
       "      <td>Yes</td>\n",
       "      <td>No</td>\n",
       "      <td>Yes</td>\n",
       "      <td>No</td>\n",
       "    </tr>\n",
       "    <tr>\n",
       "      <th>1</th>\n",
       "      <td>8/7/2020 12:04</td>\n",
       "      <td>Male</td>\n",
       "      <td>21.0</td>\n",
       "      <td>Islamic education</td>\n",
       "      <td>year 2</td>\n",
       "      <td>3.00 - 3.49</td>\n",
       "      <td>No</td>\n",
       "      <td>No</td>\n",
       "      <td>Yes</td>\n",
       "      <td>No</td>\n",
       "      <td>No</td>\n",
       "    </tr>\n",
       "    <tr>\n",
       "      <th>2</th>\n",
       "      <td>8/7/2020 12:05</td>\n",
       "      <td>Male</td>\n",
       "      <td>19.0</td>\n",
       "      <td>BIT</td>\n",
       "      <td>Year 1</td>\n",
       "      <td>3.00 - 3.49</td>\n",
       "      <td>No</td>\n",
       "      <td>Yes</td>\n",
       "      <td>Yes</td>\n",
       "      <td>Yes</td>\n",
       "      <td>No</td>\n",
       "    </tr>\n",
       "    <tr>\n",
       "      <th>3</th>\n",
       "      <td>8/7/2020 12:06</td>\n",
       "      <td>Female</td>\n",
       "      <td>22.0</td>\n",
       "      <td>Laws</td>\n",
       "      <td>year 3</td>\n",
       "      <td>3.00 - 3.49</td>\n",
       "      <td>Yes</td>\n",
       "      <td>Yes</td>\n",
       "      <td>No</td>\n",
       "      <td>No</td>\n",
       "      <td>No</td>\n",
       "    </tr>\n",
       "    <tr>\n",
       "      <th>4</th>\n",
       "      <td>8/7/2020 12:13</td>\n",
       "      <td>Male</td>\n",
       "      <td>23.0</td>\n",
       "      <td>Mathemathics</td>\n",
       "      <td>year 4</td>\n",
       "      <td>3.00 - 3.49</td>\n",
       "      <td>No</td>\n",
       "      <td>No</td>\n",
       "      <td>No</td>\n",
       "      <td>No</td>\n",
       "      <td>No</td>\n",
       "    </tr>\n",
       "  </tbody>\n",
       "</table>\n",
       "</div>"
      ],
      "text/plain": [
       "        Timestamp Choose your gender   Age What is your course?   \n",
       "0  8/7/2020 12:02             Female  18.0          Engineering  \\\n",
       "1  8/7/2020 12:04               Male  21.0    Islamic education   \n",
       "2  8/7/2020 12:05               Male  19.0                  BIT   \n",
       "3  8/7/2020 12:06             Female  22.0                 Laws   \n",
       "4  8/7/2020 12:13               Male  23.0         Mathemathics   \n",
       "\n",
       "  Your current year of Study What is your CGPA? Marital status   \n",
       "0                     year 1        3.00 - 3.49             No  \\\n",
       "1                     year 2        3.00 - 3.49             No   \n",
       "2                     Year 1        3.00 - 3.49             No   \n",
       "3                     year 3        3.00 - 3.49            Yes   \n",
       "4                     year 4        3.00 - 3.49             No   \n",
       "\n",
       "  Do you have Depression? Do you have Anxiety? Do you have Panic attack?   \n",
       "0                     Yes                   No                       Yes  \\\n",
       "1                      No                  Yes                        No   \n",
       "2                     Yes                  Yes                       Yes   \n",
       "3                     Yes                   No                        No   \n",
       "4                      No                   No                        No   \n",
       "\n",
       "  Did you seek any specialist for a treatment?  \n",
       "0                                           No  \n",
       "1                                           No  \n",
       "2                                           No  \n",
       "3                                           No  \n",
       "4                                           No  "
      ]
     },
     "execution_count": 89,
     "metadata": {},
     "output_type": "execute_result"
    }
   ],
   "source": [
    "data = pd.read_csv('StudentMentalHealth.csv')\n",
    "data.head()"
   ]
  },
  {
   "cell_type": "markdown",
   "metadata": {},
   "source": [
    "###### Renaming columns"
   ]
  },
  {
   "cell_type": "code",
   "execution_count": 90,
   "metadata": {},
   "outputs": [],
   "source": [
    "data.columns=['Timestamp','Gender','Age','Course','Year_of_Study','CGPA','Marital_Status','Depression','Anxiety','Panic_Atack','Treatment']"
   ]
  },
  {
   "cell_type": "markdown",
   "metadata": {},
   "source": [
    "###### Checking missing values"
   ]
  },
  {
   "cell_type": "code",
   "execution_count": 91,
   "metadata": {},
   "outputs": [
    {
     "data": {
      "text/plain": [
       "Timestamp         0\n",
       "Gender            0\n",
       "Age               1\n",
       "Course            0\n",
       "Year_of_Study     0\n",
       "CGPA              0\n",
       "Marital_Status    0\n",
       "Depression        0\n",
       "Anxiety           0\n",
       "Panic_Atack       0\n",
       "Treatment         0\n",
       "dtype: int64"
      ]
     },
     "execution_count": 91,
     "metadata": {},
     "output_type": "execute_result"
    }
   ],
   "source": [
    "data.isnull().sum()"
   ]
  },
  {
   "cell_type": "markdown",
   "metadata": {},
   "source": [
    "###### Filling the missing value with the median"
   ]
  },
  {
   "cell_type": "code",
   "execution_count": 92,
   "metadata": {},
   "outputs": [],
   "source": [
    "data['Age'].fillna(data['Age'].median(),inplace=True)"
   ]
  },
  {
   "cell_type": "markdown",
   "metadata": {},
   "source": [
    "###### Removing the timestamp column"
   ]
  },
  {
   "cell_type": "code",
   "execution_count": 93,
   "metadata": {},
   "outputs": [],
   "source": [
    "data = data.drop('Timestamp' , axis=1)"
   ]
  },
  {
   "cell_type": "markdown",
   "metadata": {},
   "source": [
    "###### Extracting the year of study"
   ]
  },
  {
   "cell_type": "code",
   "execution_count": 94,
   "metadata": {},
   "outputs": [],
   "source": [
    "data['Year_of_Study'] = data['Year_of_Study'].astype(str).str.extract('(\\d+)').astype(int)"
   ]
  },
  {
   "cell_type": "markdown",
   "metadata": {},
   "source": [
    "###### Calculating the average CPGA"
   ]
  },
  {
   "cell_type": "code",
   "execution_count": 95,
   "metadata": {},
   "outputs": [],
   "source": [
    "def calculate_cgpa(x):\n",
    "    if isinstance(x,str):\n",
    "        first,second=x.split('-')\n",
    "        return (float(first.strip())+float(second.strip()))/2\n",
    "    else:\n",
    "        return x\n",
    "data['CGPA']=data['CGPA'].apply(calculate_cgpa)"
   ]
  },
  {
   "cell_type": "markdown",
   "metadata": {},
   "source": [
    "###### Applying LabelEncoder to transform categorical columns"
   ]
  },
  {
   "cell_type": "code",
   "execution_count": 97,
   "metadata": {},
   "outputs": [
    {
     "name": "stdout",
     "output_type": "stream",
     "text": [
      "{'Course': {'ALA': 0, 'Accounting ': 1, 'BCS': 2, 'BENL': 3, 'BIT': 4, 'Banking Studies': 5, 'Benl': 6, 'Biomedical science': 7, 'Biotechnology': 8, 'Business Administration': 9, 'CTS': 10, 'Communication ': 11, 'DIPLOMA TESL': 12, 'Diploma Nursing': 13, 'ENM': 14, 'Econs': 15, 'Engine': 16, 'Engineering': 17, 'Fiqh': 18, 'Fiqh fatwa ': 19, 'Human Resources': 20, 'Human Sciences ': 21, 'IT': 22, 'Irkhs': 23, 'Islamic Education': 24, 'Islamic education': 25, 'KENMS': 26, 'KIRKHS': 27, 'KOE': 28, 'Kirkhs': 29, 'Koe': 30, 'Kop': 31, 'Law': 32, 'Laws': 33, 'MHSC': 34, 'Malcom': 35, 'Marine science': 36, 'Mathemathics': 37, 'Nursing ': 38, 'Pendidikan Islam': 39, 'Pendidikan Islam ': 40, 'Pendidikan islam': 41, 'Psychology': 42, 'Radiography': 43, 'TAASL': 44, 'Usuluddin ': 45, 'engin': 46, 'koe': 47, 'psychology': 48}, 'Gender': {'Female': 0, 'Male': 1}, 'Marital_Status': {'No': 0, 'Yes': 1}, 'Depression': {'No': 0, 'Yes': 1}, 'Anxiety': {'No': 0, 'Yes': 1}, 'Panic_Atack': {'No': 0, 'Yes': 1}, 'Treatment': {'No': 0, 'Yes': 1}} \n",
      "\n"
     ]
    }
   ],
   "source": [
    "labelEncoder = preprocessing.LabelEncoder()\n",
    "cat_cols=['Course','Gender','Marital_Status','Depression','Anxiety','Panic_Atack','Treatment']\n",
    "mapping_dict ={}\n",
    "\n",
    "for col in cat_cols:\n",
    "    data[col]=labelEncoder.fit_transform(data[col])\n",
    "    le_name_mapping = dict(zip(labelEncoder.classes_,labelEncoder.transform(labelEncoder.classes_)))\n",
    "    mapping_dict[col]= le_name_mapping\n",
    "print(mapping_dict, \"\\n\" )"
   ]
  },
  {
   "cell_type": "markdown",
   "metadata": {},
   "source": [
    "###### Saving the preprocessing steps into a pickle file"
   ]
  },
  {
   "cell_type": "code",
   "execution_count": 98,
   "metadata": {},
   "outputs": [],
   "source": [
    "preprocessing_steps = {\n",
    "    'label_encoder': labelEncoder,\n",
    "    'label_mapping': le_name_mapping\n",
    "}\n",
    "\n",
    "with open('preprocessing_steps.pkl', 'wb') as file:\n",
    "    pickle.dump(preprocessing_steps, file)\n"
   ]
  },
  {
   "cell_type": "markdown",
   "metadata": {},
   "source": [
    "###### Spliting the data into features and target"
   ]
  },
  {
   "cell_type": "code",
   "execution_count": 99,
   "metadata": {},
   "outputs": [],
   "source": [
    "X = data.drop('Depression', axis=1)\n",
    "y = data['Depression']"
   ]
  },
  {
   "cell_type": "markdown",
   "metadata": {},
   "source": [
    "###### Spliting the data into training, testing, and validation sets"
   ]
  },
  {
   "cell_type": "code",
   "execution_count": 100,
   "metadata": {},
   "outputs": [],
   "source": [
    "X_train, X_temp, y_train, y_temp = train_test_split(X, y, test_size=0.4, random_state=42)\n",
    "X_test, X_val, y_test, y_val = train_test_split(X_temp, y_temp, test_size=0.5, random_state=42)"
   ]
  },
  {
   "cell_type": "markdown",
   "metadata": {},
   "source": [
    "###### Evaluate function"
   ]
  },
  {
   "cell_type": "code",
   "execution_count": 101,
   "metadata": {},
   "outputs": [],
   "source": [
    "def evaluate(sk_model, x_test, y_test):\n",
    "    eval_acc = sk_model.score(x_test, y_test)\n",
    "    preds = sk_model.predict(x_test)\n",
    "    auc_score = roc_auc_score(y_test, preds)\n",
    "    mlflow.log_metric(\"eval_acc\", eval_acc)\n",
    "    mlflow.log_metric(\"auc_score\", auc_score)\n",
    "    print(f\"AUC Score: {auc_score:.3%}\")\n",
    "    print(f\"Evaluation Accuracy: {eval_acc:.3%}\")\n",
    "    \n",
    "    plt.clf()\n",
    "    conf_matrix = confusion_matrix(y_test, preds)\n",
    "    ax = sns.heatmap(conf_matrix, annot=True, fmt='g')\n",
    "    ax.invert_xaxis()\n",
    "    ax.invert_yaxis()\n",
    "    plt.ylabel('Actual')\n",
    "    plt.xlabel('Predicted')\n",
    "    plt.title(\"Confusion Matrix\")\n",
    "    plt.savefig(\"sklearn_conf_matrix.png\")\n",
    "    mlflow.log_artifact(\"sklearn_conf_matrix.png\")"
   ]
  },
  {
   "cell_type": "markdown",
   "metadata": {},
   "source": [
    "###### Logistic Regression model training and evaluation"
   ]
  },
  {
   "cell_type": "code",
   "execution_count": 108,
   "metadata": {},
   "outputs": [
    {
     "name": "stdout",
     "output_type": "stream",
     "text": [
      "Train Accuracy: 85.000%\n",
      "AUC Score: 70.833%\n",
      "Evaluation Accuracy: 75.000%\n",
      "Model run:  5436f753b726478599985088705e5827\n"
     ]
    },
    {
     "data": {
      "image/png": "[encoded data removed]",
      "text/plain": [
       "<Figure size 640x480 with 2 Axes>"
      ]
     },
     "metadata": {},
     "output_type": "display_data"
    }
   ],
   "source": [
    "sk_model = LogisticRegression(random_state=None, max_iter=1000) \n",
    "mlflow.set_experiment(\"MentalHealth_experiment\")\n",
    "\n",
    "with mlflow.start_run():\n",
    "    # Training on the training set\n",
    "    sk_model = sk_model.fit(X_train, y_train)\n",
    "    train_acc = sk_model.score(X_train, y_train)\n",
    "    mlflow.log_metric(\"train_acc\", train_acc)\n",
    "    print(f\"Train Accuracy: {train_acc:.3%}\")\n",
    "\n",
    "    # Evaluation on the test set\n",
    "    evaluate(sk_model, X_test, y_test)\n",
    "\n",
    "    # Log the model\n",
    "    mlflow.sklearn.log_model(sk_model, \"log_reg_model\")\n",
    "\n",
    "    print(\"Model run: \", mlflow.active_run().info.run_uuid)\n",
    "\n",
    "# End the run\n",
    "mlflow.end_run()"
   ]
  },
  {
   "cell_type": "markdown",
   "metadata": {},
   "source": [
    "###### Decision Tree model training and evaluation"
   ]
  },
  {
   "cell_type": "code",
   "execution_count": 109,
   "metadata": {},
   "outputs": [
    {
     "name": "stdout",
     "output_type": "stream",
     "text": [
      "Decision Tree Train Accuracy: 100.000%\n",
      "AUC Score: 70.833%\n",
      "Evaluation Accuracy: 70.000%\n",
      "Model run:  46b1663e96844e0c8aee8d4fff40f04a\n"
     ]
    },
    {
     "data": {
      "image/png": "[encoded data removed]",
      "text/plain": [
       "<Figure size 640x480 with 2 Axes>"
      ]
     },
     "metadata": {},
     "output_type": "display_data"
    }
   ],
   "source": [
    "sk_model_dt = DecisionTreeClassifier(random_state=42)\n",
    "mlflow.set_experiment(\"MentalHealth_experiment\")\n",
    "\n",
    "with mlflow.start_run():\n",
    "    sk_model_dt = sk_model_dt.fit(X_train, y_train)\n",
    "    train_acc_dt = sk_model_dt.score(X_train, y_train)\n",
    "    mlflow.log_metric(\"train_acc\", train_acc_dt)\n",
    "    print(f\"Decision Tree Train Accuracy: {train_acc_dt:.3%}\")\n",
    "    evaluate(sk_model_dt, X_test, y_test)\n",
    "    mlflow.sklearn.log_model(sk_model_dt, \"decision_tree_model\")\n",
    "    print(\"Model run: \", mlflow.active_run().info.run_uuid)\n",
    "mlflow.end_run()"
   ]
  },
  {
   "cell_type": "markdown",
   "metadata": {},
   "source": [
    "###### Random Forest model training and evaluation"
   ]
  },
  {
   "cell_type": "code",
   "execution_count": 110,
   "metadata": {},
   "outputs": [
    {
     "name": "stdout",
     "output_type": "stream",
     "text": [
      "Random Forest Train Accuracy: 100.000%\n",
      "AUC Score: 81.250%\n",
      "Evaluation Accuracy: 85.000%\n",
      "Model run:  37c3626ae31e449eae4a73d089a7fe47\n"
     ]
    },
    {
     "data": {
      "image/png": "[encoded data removed]",
      "text/plain": [
       "<Figure size 640x480 with 2 Axes>"
      ]
     },
     "metadata": {},
     "output_type": "display_data"
    }
   ],
   "source": [
    "sk_model_rf = RandomForestClassifier(random_state=42)\n",
    "mlflow.set_experiment(\"MentalHealth_experiment\")\n",
    "\n",
    "with mlflow.start_run():\n",
    "    sk_model_rf = sk_model_rf.fit(X_train, y_train)\n",
    "    train_acc_rf = sk_model_rf.score(X_train, y_train)\n",
    "    mlflow.log_metric(\"train_acc\", train_acc_rf)\n",
    "    print(f\"Random Forest Train Accuracy: {train_acc_rf:.3%}\")\n",
    "    evaluate(sk_model_rf, X_test, y_test)\n",
    "    mlflow.sklearn.log_model(sk_model_rf, \"random_forest_model\")\n",
    "    print(\"Model run: \", mlflow.active_run().info.run_uuid)\n",
    "\n",
    "mlflow.end_run()"
   ]
  },
  {
   "cell_type": "markdown",
   "metadata": {},
   "source": [
    "###### Gradient Boosting model training and evaluation"
   ]
  },
  {
   "cell_type": "code",
   "execution_count": 111,
   "metadata": {},
   "outputs": [
    {
     "name": "stdout",
     "output_type": "stream",
     "text": [
      "Gradient Boosting Train Accuracy: 100.000%\n",
      "AUC Score: 75.000%\n",
      "Evaluation Accuracy: 75.000%\n",
      "Model run:  721872add195465d98cfc924e22e7033\n"
     ]
    },
    {
     "data": {
      "image/png": "[encoded data removed]",
      "text/plain": [
       "<Figure size 640x480 with 2 Axes>"
      ]
     },
     "metadata": {},
     "output_type": "display_data"
    }
   ],
   "source": [
    "sk_model_gb = GradientBoostingClassifier(random_state=42)\n",
    "mlflow.set_experiment(\"MentalHealth_experiment\")\n",
    "\n",
    "with mlflow.start_run():\n",
    "    sk_model_gb = sk_model_gb.fit(X_train, y_train)\n",
    "    train_acc_gb = sk_model_gb.score(X_train, y_train)\n",
    "    mlflow.log_metric(\"train_acc\", train_acc_gb)\n",
    "    print(f\"Gradient Boosting Train Accuracy: {train_acc_gb:.3%}\")\n",
    "    evaluate(sk_model_gb, X_test, y_test)\n",
    "    mlflow.sklearn.log_model(sk_model_gb, \"gradient_boosting_model\")\n",
    "    print(\"Model run: \", mlflow.active_run().info.run_uuid)\n",
    "mlflow.end_run()"
   ]
  },
  {
   "cell_type": "markdown",
   "metadata": {},
   "source": [
    "###### Support Vector Machine model training and evaluation"
   ]
  },
  {
   "cell_type": "code",
   "execution_count": 112,
   "metadata": {},
   "outputs": [
    {
     "name": "stdout",
     "output_type": "stream",
     "text": [
      "SVM Train Accuracy: 66.667%\n",
      "AUC Score: 58.333%\n",
      "Evaluation Accuracy: 65.000%\n",
      "Model run:  566b39e1f4e6408f869ed84d377908e5\n"
     ]
    },
    {
     "data": {
      "image/png": "[encoded data removed]",
      "text/plain": [
       "<Figure size 640x480 with 2 Axes>"
      ]
     },
     "metadata": {},
     "output_type": "display_data"
    }
   ],
   "source": [
    "sk_model_svm = SVC(random_state=42)\n",
    "mlflow.set_experiment(\"MentalHealth_experiment\")\n",
    "\n",
    "with mlflow.start_run():\n",
    "    sk_model_svm = sk_model_svm.fit(X_train, y_train)\n",
    "    train_acc_svm = sk_model_svm.score(X_train, y_train)\n",
    "    mlflow.log_metric(\"train_acc\", train_acc_svm)\n",
    "    print(f\"SVM Train Accuracy: {train_acc_svm:.3%}\")\n",
    "    evaluate(sk_model_svm, X_test, y_test)\n",
    "    mlflow.sklearn.log_model(sk_model_svm, \"svm_model\")\n",
    "    print(\"Model run: \", mlflow.active_run().info.run_uuid)\n",
    "mlflow.end_run()\n"
   ]
  },
  {
   "cell_type": "code",
   "execution_count": null,
   "metadata": {},
   "outputs": [],
   "source": []
  }
 ],
 "metadata": {
  "kernelspec": {
   "display_name": "Python 3",
   "language": "python",
   "name": "python3"
  },
  "language_info": {
   "codemirror_mode": {
    "name": "ipython",
    "version": 3
   },
   "file_extension": ".py",
   "mimetype": "text/x-python",
   "name": "python",
   "nbconvert_exporter": "python",
   "pygments_lexer": "ipython3",
   "version": "3.11.3"
  }
 },
 "nbformat": 4,
 "nbformat_minor": 2
}
